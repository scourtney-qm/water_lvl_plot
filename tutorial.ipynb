{
 "cells": [
  {
   "cell_type": "markdown",
   "id": "7ef1d4d9",
   "metadata": {},
   "source": [
    "# Water Level Plot\n",
    "\n",
    "Please click on the cell below and press the play button above. \n",
    "\n",
    "Then a text field will appear as well as a dropdown menue. Please feel free to look throught the various stations and see the water level plots over the last 24 hours. \n",
    "\n",
    "If you want to refine your search you can use the text field and that will limit the dropdown to stations containing your search term.\n",
    "\n",
    "Warning: Many of the sations have long delays in reporting and therefore the plots will appear empty or truncated.\n",
    "\n",
    "This uses the following API which is still in beta: https://environment.data.gov.uk/flood-monitoring/doc/reference"
   ]
  },
  {
   "cell_type": "code",
   "execution_count": 1,
   "id": "7bd35ab8",
   "metadata": {},
   "outputs": [
    {
     "data": {
      "application/vnd.jupyter.widget-view+json": {
       "model_id": "be2ddd60748b48ce83e21a24c24c6e4f",
       "version_major": 2,
       "version_minor": 0
      },
      "text/plain": [
       "interactive(children=(Text(value='', description='Search:', placeholder='Type something'), Output()), _dom_cla…"
      ]
     },
     "metadata": {},
     "output_type": "display_data"
    },
    {
     "data": {
      "application/vnd.jupyter.widget-view+json": {
       "model_id": "f5ebae16c14e497aae57638e9ad5af40",
       "version_major": 2,
       "version_minor": 0
      },
      "text/plain": [
       "interactive(children=(Dropdown(description='station', options=('A6 Bridge (720215)', 'ABBEY MILL RL (E12513)',…"
      ]
     },
     "metadata": {},
     "output_type": "display_data"
    }
   ],
   "source": [
    "import water_lvl_plot\n",
    "water_lvl_plot.widget()"
   ]
  },
  {
   "cell_type": "code",
   "execution_count": null,
   "id": "fdafe5d0",
   "metadata": {},
   "outputs": [],
   "source": []
  }
 ],
 "metadata": {
  "kernelspec": {
   "display_name": "Python 3",
   "language": "python",
   "name": "python3"
  },
  "language_info": {
   "codemirror_mode": {
    "name": "ipython",
    "version": 3
   },
   "file_extension": ".py",
   "mimetype": "text/x-python",
   "name": "python",
   "nbconvert_exporter": "python",
   "pygments_lexer": "ipython3",
   "version": "3.8.8"
  }
 },
 "nbformat": 4,
 "nbformat_minor": 5
}
